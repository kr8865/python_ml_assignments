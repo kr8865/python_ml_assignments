{
 "cells": [
  {
   "cell_type": "code",
   "execution_count": 11,
   "id": "fb55e716",
   "metadata": {},
   "outputs": [
    {
     "name": "stdout",
     "output_type": "stream",
     "text": [
      "[['M1', 'M2', 'M3', 'M4'], ['10', '20', '30', '40'], ['50', '60', '60', '70'], ['80', '90', '100', '110']]\n"
     ]
    }
   ],
   "source": [
    "#Make a 2-d array and read and write it in a csv format\n",
    "\n",
    "l=[['M1', 'M2', 'M3', 'M4'],\n",
    "   ['10', '20', '30', '40'],\n",
    "   ['50', '60', '60', '70'],\n",
    "   ['80', '90', '100', '110']\n",
    "   ]\n",
    "print(l)\n"
   ]
  },
  {
   "cell_type": "code",
   "execution_count": null,
   "id": "49c64809",
   "metadata": {},
   "outputs": [],
   "source": [
    "with open('write.csv','w') as f:\n",
    "    for list in l:\n",
    "        f.write(','.join(map(str,list)))\n",
    "        f.write('\\n')\n",
    "print(write.csv)"
   ]
  },
  {
   "cell_type": "markdown",
   "id": "43404d0a",
   "metadata": {},
   "source": []
  },
  {
   "cell_type": "code",
   "execution_count": 1,
   "id": "8ff6b348",
   "metadata": {},
   "outputs": [
    {
     "ename": "ValueError",
     "evalue": "invalid literal for int() with base 10: ''",
     "output_type": "error",
     "traceback": [
      "\u001b[31m---------------------------------------------------------------------------\u001b[39m",
      "\u001b[31mValueError\u001b[39m                                Traceback (most recent call last)",
      "\u001b[36mCell\u001b[39m\u001b[36m \u001b[39m\u001b[32mIn[1]\u001b[39m\u001b[32m, line 1\u001b[39m\n\u001b[32m----> \u001b[39m\u001b[32m1\u001b[39m age=\u001b[38;5;28;43mint\u001b[39;49m\u001b[43m(\u001b[49m\u001b[38;5;28;43minput\u001b[39;49m\u001b[43m(\u001b[49m\u001b[33;43m\"\u001b[39;49m\u001b[33;43menter the age\u001b[39;49m\u001b[33;43m\"\u001b[39;49m\u001b[43m)\u001b[49m\u001b[43m)\u001b[49m\n\u001b[32m      3\u001b[39m \u001b[38;5;28;01mif\u001b[39;00m(age<\u001b[32m18\u001b[39m):\n\u001b[32m      4\u001b[39m     \u001b[38;5;28;01mraise\u001b[39;00m \u001b[38;5;167;01mException\u001b[39;00m(\u001b[33m\"\u001b[39m\u001b[33myou are not eligible for vote\u001b[39m\u001b[33m\"\u001b[39m)\n",
      "\u001b[31mValueError\u001b[39m: invalid literal for int() with base 10: ''"
     ]
    }
   ],
   "source": [
    "age=int(input(\"enter the age\"))\n",
    "\n",
    "if(age<18):\n",
    "    raise Exception(\"you are not eligible for vote\")\n",
    "    "
   ]
  }
 ],
 "metadata": {
  "kernelspec": {
   "display_name": "Python 3",
   "language": "python",
   "name": "python3"
  },
  "language_info": {
   "codemirror_mode": {
    "name": "ipython",
    "version": 3
   },
   "file_extension": ".py",
   "mimetype": "text/x-python",
   "name": "python",
   "nbconvert_exporter": "python",
   "pygments_lexer": "ipython3",
   "version": "3.11.3"
  }
 },
 "nbformat": 4,
 "nbformat_minor": 5
}
