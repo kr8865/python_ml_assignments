{
 "cells": [
  {
   "cell_type": "code",
   "execution_count": 16,
   "id": "a33f65ae",
   "metadata": {},
   "outputs": [
    {
     "name": "stdout",
     "output_type": "stream",
     "text": [
      "Operation Start time :1752301495.80621 \n",
      "\n",
      "Matrix multiplication completed.\n",
      "\n",
      "[[23.10880013 21.15736831 21.42143211 ... 18.93790773 23.07773765\n",
      "  24.97216534]\n",
      " [24.60703391 23.08647365 23.29144982 ... 22.0236202  23.97871586\n",
      "  25.85996957]\n",
      " [24.53907556 22.32766266 22.91428153 ... 20.40317068 24.01770634\n",
      "  27.48175484]\n",
      " ...\n",
      " [25.20608484 24.98598621 24.43569469 ... 23.05524906 24.91950769\n",
      "  27.09684551]\n",
      " [24.69686567 24.48760929 23.37299701 ... 21.21762697 24.96667686\n",
      "  27.3569613 ]\n",
      " [26.47198115 25.32273197 25.23869973 ... 23.01835895 25.32922075\n",
      "  30.18504778]] \n",
      "\n",
      "Determinant of the result: -1.4997739509369783e+51 \n",
      "\n",
      "Operation end time :1752301495.8543262 \n",
      "\n",
      "Matrix is invertible.\n",
      "Inverse matrix calculated successfully.\n",
      "[[  3.00130534  -4.75414478 -22.04907933 ...  -2.8056522   -6.1083369\n",
      "  -20.73194027]\n",
      " [  0.23025603  -2.36135664 -12.3710645  ...  -0.92733719  -2.92715506\n",
      "  -13.85834691]\n",
      " [  1.04125886  -1.64565734  -6.01496236 ...  -0.54946395  -1.44762693\n",
      "   -5.97206896]\n",
      " ...\n",
      " [ -0.25604823   3.78774347  16.81447254 ...   2.29685936   4.28279908\n",
      "   19.20470446]\n",
      " [  2.2130865   -2.14232129  -9.48296738 ...  -1.51805584  -3.09373765\n",
      "   -8.20383865]\n",
      " [  0.31466473   0.22795852  -1.07882384 ...   0.46090533  -0.30517136\n",
      "   -0.3401859 ]] \n",
      "\n",
      "Time taken: 0.0481 seconds\n"
     ]
    }
   ],
   "source": [
    "import numpy as np\n",
    "import time\n",
    "\n",
    "# Step 1: Generate two random 100x100 arrays\n",
    "A = np.random.rand(100, 100)\n",
    "B = np.random.rand(100, 100)\n",
    "\n",
    "# Step 2: Start the timer\n",
    "start_time = time.time()\n",
    "print(f\"Operation Start time :{start_time} \\n\")\n",
    "\n",
    "# Step 3: Matrix multiplication\n",
    "C = np.dot(A, B)\n",
    "print(\"Matrix multiplication completed.\\n\")\n",
    "print(C,\"\\n\")\n",
    "\n",
    "\n",
    "# Step 4: Calculate determinant\n",
    "det_C = np.linalg.det(C)\n",
    "print(f\"Determinant of the result: {det_C} \\n\")\n",
    "\n",
    "\n",
    "# Step 5: Try to calculate inverse if determinant is not zero\n",
    "if np.isclose(det_C, 0):\n",
    "    inverse_C = None\n",
    "    invertible = False\n",
    "else:\n",
    "    inverse_C = np.linalg.inv(C)\n",
    "    invertible = True\n",
    "\n",
    "# Step 6: End the timer\n",
    "end_time = time.time()\n",
    "print(f\"Operation end time :{end_time} \\n\")\n",
    "elapsed_time = end_time - start_time\n",
    "\n",
    "# Step 7: Print results\n",
    "print(\"Matrix is invertible.\" if invertible else \"Matrix is not invertible.\")\n",
    "if invertible:\n",
    "    print(\"Inverse matrix calculated successfully.\")\n",
    "    print(inverse_C,\"\\n\")\n",
    "print(f\"Time taken: {elapsed_time:.4f} seconds\")"
   ]
  },
  {
   "cell_type": "code",
   "execution_count": 15,
   "id": "29d3634e",
   "metadata": {},
   "outputs": [
    {
     "name": "stdout",
     "output_type": "stream",
     "text": [
      "Original Array :-\n",
      "[19 74 59 60 94 47  2 18 21 24 47 59 38 88 93 83 62 48 52 32]\n",
      "Sorted Array :-\n",
      "[ 2 18 19 21 24 32 38 47 47 48 52 59 59 60 62 74 83 88 93 94]\n",
      "5 largest elements\n",
      "[94 93 88 83 74]\n"
     ]
    }
   ],
   "source": [
    "# Generate a 1D array of 20 random integers between 1 and 100, sort it, and find the 5 largest elements.\n",
    "\n",
    "import numpy as np\n",
    "l3=np.random.randint(1,100,20)\n",
    "print(\"Original Array :-\")\n",
    "print(l3)\n",
    "print(\"Sorted Array :-\")\n",
    "print(np.sort(l3))\n",
    "print(\"5 largest elements\")\n",
    "print(np.sort(l3)[-5:][::-1])"
   ]
  },
  {
   "cell_type": "code",
   "execution_count": 14,
   "id": "52416848",
   "metadata": {},
   "outputs": [
    {
     "name": "stdout",
     "output_type": "stream",
     "text": [
      "[[1 0 0 0]\n",
      " [0 1 0 0]\n",
      " [0 0 1 0]\n",
      " [0 0 0 1]]\n"
     ]
    }
   ],
   "source": [
    "# Create an identity matrix of size 4x4.\n",
    "import numpy as np\n",
    "print(np.eye(4,dtype=\"int\"))"
   ]
  },
  {
   "cell_type": "code",
   "execution_count": 13,
   "id": "b0482199",
   "metadata": {},
   "outputs": [
    {
     "name": "stdout",
     "output_type": "stream",
     "text": [
      "Array of 10 equally spaced values between 0 and 1 \n",
      "\n",
      "[0.         0.11111111 0.22222222 0.33333333 0.44444444 0.55555556\n",
      " 0.66666667 0.77777778 0.88888889 1.        ]\n"
     ]
    }
   ],
   "source": [
    "# Create an array of 10 equally spaced values between 0 and 1.\n",
    "import numpy as np\n",
    "l1=np.linspace(0,1,10)\n",
    "print(\"Array of 10 equally spaced values between 0 and 1 \\n\")\n",
    "print(l1)"
   ]
  },
  {
   "cell_type": "code",
   "execution_count": null,
   "id": "9387bef2",
   "metadata": {},
   "outputs": [],
   "source": [
    "import numpy as np\n",
    "\n",
    "l2=np.random.randint(10,50,15)\n",
    "print(l2)\n",
    "print(\"Numbers Greater than 25 :\")\n",
    "print(l2[l2>25])\n",
    "print(\"Replacing all elements less than 30 with 0 :\")\n",
    "l2[l2<30]=0\n",
    "print(l2)\n",
    "print(\"number of nonZero elements divisible by 5\")\n",
    "print(np.count_nonzero(l2[l2%5==0]))\n",
    "print(\"number of  elements divisible by 5\")\n",
    "print(np.count_nonzero(l2%5==0))"
   ]
  },
  {
   "cell_type": "code",
   "execution_count": 12,
   "id": "4f68202f",
   "metadata": {},
   "outputs": [
    {
     "name": "stdout",
     "output_type": "stream",
     "text": [
      "[ 1  5  4  2  9  1  5  4  1  6 11 10]\n",
      "2D Array of Size 4X3\n",
      "[[ 1  5  4]\n",
      " [ 2  9  1]\n",
      " [ 5  4  1]\n",
      " [ 6 11 10]]\n",
      "3D Array of Size 2X2X3  \n",
      "[[[ 1  5  4]\n",
      "  [ 2  9  1]]\n",
      "\n",
      " [[ 5  4  1]\n",
      "  [ 6 11 10]]]\n",
      "Transpose of 2D Array\n",
      "[[ 1  2  5  6]\n",
      " [ 5  9  4 11]\n",
      " [ 4  1  1 10]]\n",
      "Transpose of 2D Array and its shape\n",
      "(3, 4)\n"
     ]
    }
   ],
   "source": [
    "import numpy as np\n",
    "\n",
    "l1=np.random.randint(1,12,12)\n",
    "print(l1)\n",
    "print(\"2D Array of Size 4X3\")\n",
    "print(l1.reshape(4,3))\n",
    "print(\"3D Array of Size 2X2X3  \")\n",
    "print(l1.reshape(2,2,3))\n",
    "print(\"Transpose of 2D Array\")\n",
    "print(np.transpose(l1.reshape(4,3)))\n",
    "print(\"Transpose of 2D Array and its shape\")\n",
    "print(np.transpose(l1.reshape(4,3)).shape)"
   ]
  },
  {
   "cell_type": "code",
   "execution_count": 11,
   "id": "a191fbb1",
   "metadata": {},
   "outputs": [
    {
     "name": "stdout",
     "output_type": "stream",
     "text": [
      "[ 9 15 10  8 18]\n",
      "Maximum : 18\n",
      "Minimum : 8\n",
      "Maximum idx : 4\n",
      "Minimum idx : 3\n"
     ]
    }
   ],
   "source": [
    "# Identify the maximum and minimum values in array B and their indices\n",
    "A=np.random.randint(1,20,5)\n",
    "B=np.random.randint(1,20,5)\n",
    "print(B)\n",
    "print(\"Maximum :\",np.max(B))\n",
    "print(\"Minimum :\",np.min(B))\n",
    "print(\"Maximum idx :\",np.argmax(B))\n",
    "print(\"Minimum idx :\",np.argmin(B))"
   ]
  },
  {
   "cell_type": "code",
   "execution_count": null,
   "id": "c135876e",
   "metadata": {},
   "outputs": [],
   "source": [
    "# Find the mean, median, standard deviation, and variance o--> array A.\n",
    "A=np.random.randint(1,20,5)\n",
    "B=np.random.randint(1,20,5)\n",
    "print(A)\n",
    "print(\"Mean :\",np.mean(A))\n",
    "print(\"Median :\",np.median(A))\n",
    "print(\"Standard deviation :\",np.std(A))\n",
    "print(\"Varience :\",np.var(A))"
   ]
  },
  {
   "cell_type": "code",
   "execution_count": 10,
   "id": "2774641a",
   "metadata": {},
   "outputs": [
    {
     "name": "stdout",
     "output_type": "stream",
     "text": [
      "[ 8  1  2 11  2]\n",
      "[11 18  6  4 19]\n",
      "200\n"
     ]
    }
   ],
   "source": [
    "# Compute the dot product of the arrays.\n",
    "A=np.random.randint(1,20,5)\n",
    "B=np.random.randint(1,20,5)\n",
    "print(A)\n",
    "print(B)\n",
    "dot_product = np.dot(A, B)\n",
    "# Or alternatively:\n",
    "# dot_product = A @ B\n",
    "print(dot_product)"
   ]
  },
  {
   "cell_type": "code",
   "execution_count": 9,
   "id": "1e3ef168",
   "metadata": {},
   "outputs": [
    {
     "name": "stdout",
     "output_type": "stream",
     "text": [
      "[ 6  4 14  6 13]\n",
      "[ 5  7 17 10 14]\n",
      "Addition : [11 11 31 16 27]\n",
      "Subtraction : [ 1 -3 -3 -4 -1]\n",
      "Multiplication : [ 30  28 238  60 182]\n",
      "Division: [1.2        0.57142857 0.82352941 0.6        0.92857143]\n"
     ]
    }
   ],
   "source": [
    "# Add, subtract, multiply, and divide the two arrays element-wise.\n",
    "import numpy as np\n",
    "A=np.random.randint(1,20,5)\n",
    "B=np.random.randint(1,20,5)\n",
    "print(A)\n",
    "print(B)\n",
    "add=A+B\n",
    "sub=A-B\n",
    "mul=A*B\n",
    "div=A/B\n",
    "print(\"Addition :\",add)\n",
    "print(\"Subtraction :\",sub)\n",
    "print(\"Multiplication :\",mul)\n",
    "print(\"Division:\",div)"
   ]
  },
  {
   "cell_type": "code",
   "execution_count": 8,
   "id": "8001aefc",
   "metadata": {},
   "outputs": [
    {
     "name": "stdout",
     "output_type": "stream",
     "text": [
      "[10 20 30]\n",
      "[10 30 50 70 90]\n",
      "[90 80 70 60 50 40 30 20 10]\n"
     ]
    }
   ],
   "source": [
    "import numpy as np\n",
    "data = [10, 20, 30, 40, 50, 60, 70, 80, 90]\n",
    "l1=np.array(data)\n",
    "print(l1[0:3])\n",
    "print(l1[::2])\n",
    "print(l1[::-1])"
   ]
  },
  {
   "cell_type": "code",
   "execution_count": 7,
   "id": "b752757f",
   "metadata": {},
   "outputs": [
    {
     "name": "stdout",
     "output_type": "stream",
     "text": [
      "(3, 5, 3)\n",
      "45\n",
      "<class 'numpy.ndarray'>\n"
     ]
    },
    {
     "data": {
      "text/plain": [
       "array([[[0.27625968, 0.39782854, 0.99898161],\n",
       "        [0.41250693, 0.80519191, 0.60798709],\n",
       "        [0.7326433 , 0.70312408, 0.27568408],\n",
       "        [0.84194764, 0.51371022, 0.32715145],\n",
       "        [0.23513682, 0.09167083, 0.3047352 ]],\n",
       "\n",
       "       [[0.87953413, 0.24387161, 0.36107583],\n",
       "        [0.78133098, 0.22486828, 0.92258738],\n",
       "        [0.37127311, 0.299724  , 0.03068377],\n",
       "        [0.01857258, 0.5703783 , 0.61486505],\n",
       "        [0.55383191, 0.00834434, 0.18233749]],\n",
       "\n",
       "       [[0.63966072, 0.55021727, 0.77250862],\n",
       "        [0.02333941, 0.40026031, 0.15773123],\n",
       "        [0.54778345, 0.73529097, 0.16299174],\n",
       "        [0.44429068, 0.69021054, 0.71906959],\n",
       "        [0.5636323 , 0.23515827, 0.98219908]]])"
      ]
     },
     "execution_count": 7,
     "metadata": {},
     "output_type": "execute_result"
    }
   ],
   "source": [
    "import numpy as np\n",
    "l3=np.random.rand(3,5,3)\n",
    "print(l3.shape)\n",
    "print(l3.size)\n",
    "print(type(l3))\n",
    "l3"
   ]
  },
  {
   "cell_type": "code",
   "execution_count": 4,
   "id": "524e796b",
   "metadata": {},
   "outputs": [
    {
     "name": "stdout",
     "output_type": "stream",
     "text": [
      "Collecting numpy\n",
      "  Downloading numpy-2.3.1-cp311-cp311-win_amd64.whl (13.0 MB)\n",
      "     ---------------------------------------- 13.0/13.0 MB 3.3 MB/s eta 0:00:00\n",
      "Installing collected packages: numpy\n",
      "Successfully installed numpy-2.3.1\n",
      "Note: you may need to restart the kernel to use updated packages.\n"
     ]
    },
    {
     "name": "stderr",
     "output_type": "stream",
     "text": [
      "  WARNING: The scripts f2py.exe and numpy-config.exe are installed in 'c:\\Users\\rainu\\AppData\\Local\\Programs\\Python\\Python311\\Scripts' which is not on PATH.\n",
      "  Consider adding this directory to PATH or, if you prefer to suppress this warning, use --no-warn-script-location.\n",
      "\n",
      "[notice] A new release of pip available: 22.3.1 -> 25.1.1\n",
      "[notice] To update, run: python.exe -m pip install --upgrade pip\n"
     ]
    }
   ],
   "source": [
    "pip install numpy"
   ]
  },
  {
   "cell_type": "code",
   "execution_count": 6,
   "id": "14bf7200",
   "metadata": {},
   "outputs": [
    {
     "name": "stdout",
     "output_type": "stream",
     "text": [
      "(3, 3)\n",
      "9\n",
      "<class 'numpy.ndarray'>\n"
     ]
    },
    {
     "data": {
      "text/plain": [
       "array([[9, 6, 1],\n",
       "       [3, 2, 1],\n",
       "       [2, 3, 9]], dtype=int32)"
      ]
     },
     "execution_count": 6,
     "metadata": {},
     "output_type": "execute_result"
    }
   ],
   "source": [
    "import numpy as np\n",
    "l2=np.random.randint(1,10,9).reshape(3,3)\n",
    "print(l2.shape)\n",
    "print(l2.size)\n",
    "print(type(l2))\n",
    "l2"
   ]
  },
  {
   "cell_type": "code",
   "execution_count": 5,
   "id": "36194e81",
   "metadata": {},
   "outputs": [
    {
     "name": "stdout",
     "output_type": "stream",
     "text": [
      "(10,)\n",
      "10\n",
      "<class 'numpy.ndarray'>\n"
     ]
    },
    {
     "data": {
      "text/plain": [
       "array([1, 5, 1, 6, 3, 7, 6, 4, 5, 3], dtype=int32)"
      ]
     },
     "execution_count": 5,
     "metadata": {},
     "output_type": "execute_result"
    }
   ],
   "source": [
    "import numpy as np\n",
    "l1=np.random.randint(1,11,10)\n",
    "print(l1.shape)\n",
    "print(l1.size)\n",
    "print(type(l1))\n",
    "l1"
   ]
  }
 ],
 "metadata": {
  "kernelspec": {
   "display_name": "Python 3",
   "language": "python",
   "name": "python3"
  },
  "language_info": {
   "codemirror_mode": {
    "name": "ipython",
    "version": 3
   },
   "file_extension": ".py",
   "mimetype": "text/x-python",
   "name": "python",
   "nbconvert_exporter": "python",
   "pygments_lexer": "ipython3",
   "version": "3.11.3"
  }
 },
 "nbformat": 4,
 "nbformat_minor": 5
}
